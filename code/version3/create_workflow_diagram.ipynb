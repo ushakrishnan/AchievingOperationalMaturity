{
 "cells": [
  {
   "cell_type": "markdown",
   "id": "5e92520e",
   "metadata": {},
   "source": [
    "# Install and Import Required Libraries\n",
    "Install and import libraries such as matplotlib and networkx for creating and saving the workflow diagram."
   ]
  },
  {
   "cell_type": "code",
   "execution_count": null,
   "id": "33e6c274",
   "metadata": {},
   "outputs": [],
   "source": [
    "# Install Required Libraries\n",
    "# Uncomment the following lines to install the required libraries if not already installed\n",
    "# !pip install matplotlib networkx"
   ]
  },
  {
   "cell_type": "code",
   "execution_count": null,
   "id": "8ecf66a3",
   "metadata": {},
   "outputs": [],
   "source": [
    "# Import Required Libraries\n",
    "import matplotlib.pyplot as plt\n",
    "import networkx as nx"
   ]
  },
  {
   "cell_type": "markdown",
   "id": "73298b15",
   "metadata": {},
   "source": [
    "# Define Workflow Steps\n",
    "Define the steps of the workflow for Version 3 as nodes and their relationships as edges."
   ]
  },
  {
   "cell_type": "code",
   "execution_count": null,
   "id": "3c7caa70",
   "metadata": {},
   "outputs": [],
   "source": [
    "# Define Workflow Steps and Relationships for Version 3\n",
    "workflow_steps = {\n",
    "    \"Start\": [\"Provision Managed AKS Cluster\"],\n",
    "    \"Provision Managed AKS Cluster\": [\"Set Up Managed Data Pipeline\"],\n",
    "    \"Set Up Managed Data Pipeline\": [\"Model Training\"],\n",
    "    \"Model Training\": [\"Model Serving\"],\n",
    "    \"Model Serving\": [\"Monitoring\"],\n",
    "    \"Monitoring\": [\"End\"]\n",
    "}"
   ]
  },
  {
   "cell_type": "markdown",
   "id": "108775bc",
   "metadata": {},
   "source": [
    "# Create the Workflow Diagram\n",
    "Use the networkx library to create a directed graph representing the workflow for Version 3."
   ]
  },
  {
   "cell_type": "code",
   "execution_count": null,
   "id": "1fc1321c",
   "metadata": {},
   "outputs": [],
   "source": [
    "# Create a Directed Graph\n",
    "G = nx.DiGraph()\n",
    "\n",
    "# Add nodes and edges to the graph\n",
    "for step, next_steps in workflow_steps.items():\n",
    "    for next_step in next_steps:\n",
    "        G.add_edge(step, next_step)\n",
    "\n",
    "# Define positions for a two-line layout\n",
    "pos = {\n",
    "    \"Start\": (0, 1),\n",
    "    \"Provision Managed AKS Cluster\": (1, 1),\n",
    "    \"Set Up Managed Data Pipeline\": (2, 1),\n",
    "    \"Model Training\": (3, 1),\n",
    "    \"Model Serving\": (1, 0),\n",
    "    \"Monitoring\": (2, 0),\n",
    "    \"End\": (3, 0)\n",
    "}\n",
    "\n",
    "# Define annotations for each stage\n",
    "annotations = {\n",
    "    \"Start\": \"Initialize the workflow\",\n",
    "    \"Provision Managed AKS Cluster\": \"Set up a managed AKS cluster with Nvidia GPU support\",\n",
    "    \"Set Up Managed Data Pipeline\": \"Prepare and validate data using Azure Data Factory\",\n",
    "    \"Model Training\": \"Train machine learning models using Azure ML\",\n",
    "    \"Model Serving\": \"Deploy trained models using Azure ML Endpoints\",\n",
    "    \"Monitoring\": \"Monitor system health and performance using Log Analytics\",\n",
    "    \"End\": \"Complete the workflow\"\n",
    "}\n",
    "\n",
    "# Draw the graph with annotations\n",
    "plt.figure(figsize=(12, 8))  # Increased canvas height\n",
    "nx.draw(G, pos, with_labels=True, node_size=4000, node_color='lightblue', font_size=8, font_weight='bold', arrowsize=20)\n",
    "\n",
    "# Add annotations for top and bottom bubbles\n",
    "for node, (x, y) in pos.items():\n",
    "    annotation = '\\n'.join(annotations[node].split(' '))\n",
    "    if y == 1:  # Top row bubbles\n",
    "        plt.text(x, y - 0.15, annotation, fontsize=8, ha='center', wrap=True)  # Just below the bubble\n",
    "    elif y == 0:  # Bottom row bubbles\n",
    "        plt.text(x, y + 0.1, annotation, fontsize=8, ha='center', wrap=True)  # Bottom of annotation just touches the bubble\n",
    "\n",
    "plt.title('Version 3 Workflow Diagram with Adjusted Annotations')\n",
    "plt.savefig('workflow_diagram_adjusted_annotations.png')\n",
    "plt.show()\n",
    "\n",
    "print(\"Annotated workflow diagram for Version 3 created and saved as 'code/version3/workflow_diagram_adjusted_annotations.png'.\")"
   ]
  },
  {
   "cell_type": "markdown",
   "id": "e419f419",
   "metadata": {},
   "source": [
    "# Save Diagram as PNG\n",
    "Render the workflow diagram and save it as a PNG file with annotations and details."
   ]
  }
 ],
 "metadata": {
  "language_info": {
   "name": "python"
  }
 },
 "nbformat": 4,
 "nbformat_minor": 5
}
